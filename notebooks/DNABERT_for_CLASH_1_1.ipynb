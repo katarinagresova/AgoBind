{
  "cells": [
    {
      "cell_type": "markdown",
      "metadata": {
        "colab_type": "text",
        "id": "view-in-github"
      },
      "source": [
        "<a href=\"https://colab.research.google.com/github/katarinagresova/AgoBind/blob/main/notebooks/DNABERT_for_CLASH_1_1.ipynb\" target=\"_parent\"><img src=\"https://colab.research.google.com/assets/colab-badge.svg\" alt=\"Open In Colab\"/></a>"
      ]
    },
    {
      "cell_type": "markdown",
      "metadata": {
        "id": "e1WtW4NfLrix"
      },
      "source": [
        "# Setup"
      ]
    },
    {
      "cell_type": "code",
      "execution_count": 2,
      "metadata": {
        "colab": {
          "base_uri": "https://localhost:8080/"
        },
        "id": "fZnfLZRWLLHA",
        "outputId": "0a6a2f8c-bdd9-494a-94d8-7222b8dbc811"
      },
      "outputs": [
        {
          "name": "stdout",
          "output_type": "stream",
          "text": [
            "\u001b[K     |████████████████████████████████| 3.8 MB 7.0 MB/s \n",
            "\u001b[K     |████████████████████████████████| 895 kB 35.5 MB/s \n",
            "\u001b[K     |████████████████████████████████| 6.5 MB 30.3 MB/s \n",
            "\u001b[K     |████████████████████████████████| 596 kB 26.6 MB/s \n",
            "\u001b[K     |████████████████████████████████| 67 kB 4.6 MB/s \n",
            "\u001b[?25h  Building wheel for agobind (setup.py) ... \u001b[?25l\u001b[?25hdone\n"
          ]
        }
      ],
      "source": [
        "!pip install -q -U git+https://github.com/katarinagresova/AgoBind"
      ]
    },
    {
      "cell_type": "code",
      "execution_count": 3,
      "metadata": {
        "colab": {
          "base_uri": "https://localhost:8080/"
        },
        "id": "gRjwhf6cFLcd",
        "outputId": "3ea3cba0-2794-434c-cb8b-b317557ccbe0"
      },
      "outputs": [
        {
          "name": "stdout",
          "output_type": "stream",
          "text": [
            "\u001b[K     |████████████████████████████████| 342 kB 13.2 MB/s \n",
            "\u001b[K     |████████████████████████████████| 54 kB 2.4 MB/s \n",
            "\u001b[K     |████████████████████████████████| 551 kB 43.1 MB/s \n",
            "\u001b[K     |████████████████████████████████| 54 kB 2.2 MB/s \n",
            "\u001b[?25h  Building wheel for configobj (setup.py) ... \u001b[?25l\u001b[?25hdone\n"
          ]
        }
      ],
      "source": [
        "!pip install -q comet_ml\n",
        "!pip install -q matplotlib"
      ]
    },
    {
      "cell_type": "code",
      "execution_count": 4,
      "metadata": {
        "colab": {
          "base_uri": "https://localhost:8080/"
        },
        "id": "GgRSkNCAQzq5",
        "outputId": "48d48c8a-1cd2-4772-f80e-6a7e32285c22"
      },
      "outputs": [
        {
          "name": "stdout",
          "output_type": "stream",
          "text": [
            "Mounted at /content/drive\n"
          ]
        }
      ],
      "source": [
        "from google.colab import drive\n",
        "drive.mount('/content/drive')"
      ]
    },
    {
      "cell_type": "markdown",
      "metadata": {
        "id": "b6aO_X5wMH2X"
      },
      "source": [
        "# Download data"
      ]
    },
    {
      "cell_type": "code",
      "execution_count": 5,
      "metadata": {
        "colab": {
          "base_uri": "https://localhost:8080/"
        },
        "id": "LOKnDfUrMJil",
        "outputId": "a5e20d66-8ad5-400c-f026-920c41420403"
      },
      "outputs": [
        {
          "name": "stdout",
          "output_type": "stream",
          "text": [
            "--2022-03-25 14:17:08--  https://raw.githubusercontent.com/ML-Bioinfo-CEITEC/miRBind/main/Datasets/train_set_1_1_CLASH2013_paper.tsv\n",
            "Resolving raw.githubusercontent.com (raw.githubusercontent.com)... 185.199.108.133, 185.199.109.133, 185.199.110.133, ...\n",
            "Connecting to raw.githubusercontent.com (raw.githubusercontent.com)|185.199.108.133|:443... connected.\n",
            "HTTP request sent, awaiting response... 200 OK\n",
            "Length: 2276853 (2.2M) [text/plain]\n",
            "Saving to: ‘data/train_set_1_1_CLASH2013_paper.tsv’\n",
            "\n",
            "train_set_1_1_CLASH 100%[===================>]   2.17M  --.-KB/s    in 0.03s   \n",
            "\n",
            "2022-03-25 14:17:09 (64.3 MB/s) - ‘data/train_set_1_1_CLASH2013_paper.tsv’ saved [2276853/2276853]\n",
            "\n",
            "--2022-03-25 14:17:09--  https://raw.githubusercontent.com/ML-Bioinfo-CEITEC/miRBind/main/Datasets/evaluation_set_1_1_CLASH2013_paper.tsv\n",
            "Resolving raw.githubusercontent.com (raw.githubusercontent.com)... 185.199.111.133, 185.199.108.133, 185.199.110.133, ...\n",
            "Connecting to raw.githubusercontent.com (raw.githubusercontent.com)|185.199.111.133|:443... connected.\n",
            "HTTP request sent, awaiting response... 200 OK\n",
            "Length: 147946 (144K) [text/plain]\n",
            "Saving to: ‘data/evaluation_set_1_1_CLASH2013_paper.tsv’\n",
            "\n",
            "evaluation_set_1_1_ 100%[===================>] 144.48K  --.-KB/s    in 0.009s  \n",
            "\n",
            "2022-03-25 14:17:09 (15.4 MB/s) - ‘data/evaluation_set_1_1_CLASH2013_paper.tsv’ saved [147946/147946]\n",
            "\n"
          ]
        }
      ],
      "source": [
        "!wget https://raw.githubusercontent.com/ML-Bioinfo-CEITEC/miRBind/main/Datasets/train_set_1_1_CLASH2013_paper.tsv -P data\n",
        "!wget https://raw.githubusercontent.com/ML-Bioinfo-CEITEC/miRBind/main/Datasets/evaluation_set_1_1_CLASH2013_paper.tsv -P data"
      ]
    },
    {
      "cell_type": "markdown",
      "metadata": {
        "id": "lXOIwp8_L0lq"
      },
      "source": [
        "# Parameters"
      ]
    },
    {
      "cell_type": "code",
      "execution_count": 6,
      "metadata": {
        "id": "v1q_O66-L6yo"
      },
      "outputs": [],
      "source": [
        "from agobind.models import get_dnabert\n",
        "\n",
        "config = {\n",
        "    \"train_data\" : \"data/train_set_1_1_CLASH2013_paper.tsv\",\n",
        "    \"test_data\": \"data/evaluation_set_1_1_CLASH2013_paper.tsv\",\n",
        "    \"eval_dset_ratio\" : 0.2, #Deducted from the train set\n",
        "    \"batch_size\" : 64,\n",
        "    \"gradient_accumulation_steps\":4,\n",
        "    \"eval_steps\" : 100,\n",
        "    \"freeze\":False ,\n",
        "    \"layers_to_unfreeze\":None,\n",
        "    \"random_weights\":False,\n",
        "    \"kmer_len\" : 6,\n",
        "    \"stride\" : 1,\n",
        "    \"early_stopping_patience\" : 5, \n",
        "    \"learning_rate\" : 2e-4,\n",
        "    \"weight_decay\":0.01,\n",
        "    \"backbone\":get_dnabert, \n",
        "}"
      ]
    },
    {
      "cell_type": "code",
      "execution_count": null,
      "metadata": {},
      "outputs": [],
      "source": [
        "from agobind.run import run\n",
        "\n",
        "run(config)"
      ]
    }
  ],
  "metadata": {
    "accelerator": "GPU",
    "colab": {
      "collapsed_sections": [],
      "include_colab_link": true,
      "name": "DNABERT_for_CLASH_1:1.ipynb",
      "provenance": []
    },
    "kernelspec": {
      "display_name": "Python 3",
      "name": "python3"
    },
    "language_info": {
      "name": "python"
    }
  },
  "nbformat": 4,
  "nbformat_minor": 0
}
