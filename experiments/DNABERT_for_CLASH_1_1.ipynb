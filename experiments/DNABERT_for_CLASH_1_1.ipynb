{
  "cells": [
    {
      "cell_type": "markdown",
      "metadata": {
        "colab_type": "text",
        "id": "view-in-github"
      },
      "source": [
        "<a href=\"https://colab.research.google.com/github/katarinagresova/AgoBind/blob/main/experiments/DNABERT_for_CLASH_1_1.ipynb\" target=\"_parent\"><img src=\"https://colab.research.google.com/assets/colab-badge.svg\" alt=\"Open In Colab\"/></a>"
      ]
    },
    {
      "cell_type": "markdown",
      "metadata": {
        "id": "e1WtW4NfLrix"
      },
      "source": [
        "# Setup"
      ]
    },
    {
      "cell_type": "code",
      "execution_count": 2,
      "metadata": {
        "colab": {
          "base_uri": "https://localhost:8080/"
        },
        "id": "fZnfLZRWLLHA",
        "outputId": "0a6a2f8c-bdd9-494a-94d8-7222b8dbc811"
      },
      "outputs": [
        {
          "name": "stdout",
          "output_type": "stream",
          "text": [
            "\u001b[K     |████████████████████████████████| 3.8 MB 7.0 MB/s \n",
            "\u001b[K     |████████████████████████████████| 895 kB 35.5 MB/s \n",
            "\u001b[K     |████████████████████████████████| 6.5 MB 30.3 MB/s \n",
            "\u001b[K     |████████████████████████████████| 596 kB 26.6 MB/s \n",
            "\u001b[K     |████████████████████████████████| 67 kB 4.6 MB/s \n",
            "\u001b[?25h  Building wheel for agobind (setup.py) ... \u001b[?25l\u001b[?25hdone\n"
          ]
        }
      ],
      "source": [
        "!git clone https://github.com/katarinagresova/AgoBind.git"
      ]
    },
    {
      "cell_type": "code",
      "execution_count": null,
      "metadata": {},
      "outputs": [],
      "source": [
        "%cd AgoBind"
      ]
    },
    {
      "cell_type": "code",
      "execution_count": null,
      "metadata": {},
      "outputs": [],
      "source": [
        "!pip install ."
      ]
    },
    {
      "cell_type": "code",
      "execution_count": 3,
      "metadata": {
        "colab": {
          "base_uri": "https://localhost:8080/"
        },
        "id": "gRjwhf6cFLcd",
        "outputId": "3ea3cba0-2794-434c-cb8b-b317557ccbe0"
      },
      "outputs": [
        {
          "name": "stdout",
          "output_type": "stream",
          "text": [
            "\u001b[K     |████████████████████████████████| 342 kB 13.2 MB/s \n",
            "\u001b[K     |████████████████████████████████| 54 kB 2.4 MB/s \n",
            "\u001b[K     |████████████████████████████████| 551 kB 43.1 MB/s \n",
            "\u001b[K     |████████████████████████████████| 54 kB 2.2 MB/s \n",
            "\u001b[?25h  Building wheel for configobj (setup.py) ... \u001b[?25l\u001b[?25hdone\n"
          ]
        }
      ],
      "source": [
        "!pip install -q comet_ml\n",
        "!pip install -q matplotlib"
      ]
    },
    {
      "cell_type": "markdown",
      "metadata": {
        "id": "lXOIwp8_L0lq"
      },
      "source": [
        "# Parameters"
      ]
    },
    {
      "cell_type": "code",
      "execution_count": 1,
      "metadata": {
        "id": "v1q_O66-L6yo"
      },
      "outputs": [],
      "source": [
        "from agobind.models import get_dnabert\n",
        "import pickle\n",
        "\n",
        "config = {\n",
        "    \"train_data\" : \"data/train_set_1_1_CLASH2013_paper.tsv\",\n",
        "    \"test_data\": \"data/evaluation_set_1_1_CLASH2013_paper.tsv\",\n",
        "    \"eval_dset_ratio\" : 0.2, #Deducted from the train set\n",
        "    \"batch_size\" : 64,\n",
        "    \"gradient_accumulation_steps\":4,\n",
        "    \"eval_steps\" : 100,\n",
        "    \"freeze\":False ,\n",
        "    \"layers_to_unfreeze\":None,\n",
        "    \"random_weights\":False,\n",
        "    \"kmer_len\" : 6,\n",
        "    \"stride\" : 1,\n",
        "    \"early_stopping_patience\" : 5, \n",
        "    \"learning_rate\" : 2e-4,\n",
        "    \"weight_decay\":0.01,\n",
        "    \"backbone\":get_dnabert, \n",
        "}\n",
        "\n",
        "with open('config.pickle', 'wb') as handle:\n",
        "    pickle.dump(config, handle, protocol=pickle.HIGHEST_PROTOCOL)"
      ]
    },
    {
      "cell_type": "markdown",
      "metadata": {},
      "source": [
        "# Train model"
      ]
    },
    {
      "cell_type": "code",
      "execution_count": null,
      "metadata": {},
      "outputs": [],
      "source": [
        "!python experiments/run.py config.pickle"
      ]
    }
  ],
  "metadata": {
    "accelerator": "GPU",
    "colab": {
      "collapsed_sections": [],
      "include_colab_link": true,
      "name": "DNABERT_for_CLASH_1:1.ipynb",
      "provenance": []
    },
    "kernelspec": {
      "display_name": "Python 3",
      "name": "python3"
    },
    "language_info": {
      "codemirror_mode": {
        "name": "ipython",
        "version": 3
      },
      "file_extension": ".py",
      "mimetype": "text/x-python",
      "name": "python",
      "nbconvert_exporter": "python",
      "pygments_lexer": "ipython3",
      "version": "3.8.10"
    }
  },
  "nbformat": 4,
  "nbformat_minor": 0
}
