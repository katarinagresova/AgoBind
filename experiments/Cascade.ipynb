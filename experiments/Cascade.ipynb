{
  "nbformat": 4,
  "nbformat_minor": 0,
  "metadata": {
    "colab": {
      "name": "Cascade.ipynb",
      "provenance": [],
      "authorship_tag": "ABX9TyNp+goMh1xpVwS37edhJr9u",
      "include_colab_link": true
    },
    "kernelspec": {
      "name": "python3",
      "display_name": "Python 3"
    },
    "language_info": {
      "name": "python"
    },
    "accelerator": "GPU"
  },
  "cells": [
    {
      "cell_type": "markdown",
      "metadata": {
        "id": "view-in-github",
        "colab_type": "text"
      },
      "source": [
        "<a href=\"https://colab.research.google.com/github/katarinagresova/AgoBind/blob/cascade/experiments/Cascade.ipynb\" target=\"_parent\"><img src=\"https://colab.research.google.com/assets/colab-badge.svg\" alt=\"Open In Colab\"/></a>"
      ]
    },
    {
      "cell_type": "markdown",
      "source": [
        "# Setup"
      ],
      "metadata": {
        "id": "xhkvHbvDQ8G0"
      }
    },
    {
      "cell_type": "code",
      "execution_count": 1,
      "metadata": {
        "colab": {
          "base_uri": "https://localhost:8080/"
        },
        "id": "3qn5_czGDDGD",
        "outputId": "c68e7fab-61a0-4fe9-868f-6ed01206133e"
      },
      "outputs": [
        {
          "output_type": "stream",
          "name": "stdout",
          "text": [
            "Cloning into 'miRBind'...\n",
            "remote: Enumerating objects: 233, done.\u001b[K\n",
            "remote: Counting objects: 100% (75/75), done.\u001b[K\n",
            "remote: Compressing objects: 100% (56/56), done.\u001b[K\n",
            "remote: Total 233 (delta 35), reused 39 (delta 12), pack-reused 158\u001b[K\n",
            "Receiving objects: 100% (233/233), 40.86 MiB | 22.36 MiB/s, done.\n",
            "Resolving deltas: 100% (100/100), done.\n",
            "/content/miRBind\n"
          ]
        }
      ],
      "source": [
        "!git clone https://github.com/ML-Bioinfo-CEITEC/miRBind.git\n",
        "%cd miRBind"
      ]
    },
    {
      "cell_type": "markdown",
      "source": [
        "# Model architecture"
      ],
      "metadata": {
        "id": "zbyfEtc1Q_nR"
      }
    },
    {
      "cell_type": "code",
      "source": [
        "#!/usr/bin/env python\n",
        "# -*- coding: utf-8 -*-\n",
        "\n",
        "import pandas as pd\n",
        "import numpy as np\n",
        "from sklearn.utils import shuffle\n",
        "from sklearn.model_selection import train_test_split\n",
        "import tensorflow as tf\n",
        "from tensorflow import keras as K\n",
        "import matplotlib.pyplot as plt\n",
        "from matplotlib.pyplot import figure\n",
        "from sklearn.metrics import roc_curve, roc_auc_score, auc\n",
        "from sklearn.metrics import precision_recall_curve\n",
        "from tensorflow.keras.layers import (\n",
        "                                BatchNormalization, LeakyReLU,\n",
        "                                Input, Dense, Conv2D,\n",
        "                                MaxPooling2D, Flatten, Dropout)\n",
        "from tensorflow.keras.optimizers import Adam\n",
        "from keras.callbacks import EarlyStopping\n",
        "\n",
        "\n",
        "def one_hot_encoding(df, tensor_dim=(50, 20, 1)):\n",
        "    \"\"\"\n",
        "    fun transform input database to numpy array.\n",
        "    \n",
        "    parameters:\n",
        "    df = Pandas df with col names \"gene\", \"label\", \"miRNA\"\n",
        "    tensor_dim= 2d matrix shape\n",
        "    \n",
        "    output:\n",
        "    2d dot matrix, labels as np array\n",
        "    \"\"\"\n",
        "    df.reset_index(inplace=True, drop=True)\n",
        "\n",
        "    # alphabet for watson-crick interactions.\n",
        "    alphabet = {\"AT\": 1., \"TA\": 1., \"GC\": 1., \"CG\": 1.}\n",
        "\n",
        "    # labels to one hot encoding\n",
        "    label = df[\"label\"].to_numpy()\n",
        "\n",
        "    # create empty main 2d matrix array\n",
        "    N = df.shape[0]  # number of samples in df\n",
        "    shape_matrix_2d = (N, *tensor_dim)  # 2d matrix shape\n",
        "    # initialize dot matrix with zeros\n",
        "    ohe_matrix_2d = np.zeros(shape_matrix_2d, dtype=\"float32\")\n",
        "\n",
        "    # compile matrix with watson-crick interactions.\n",
        "    for index, row in df.iterrows():\n",
        "        for bind_index, bind_nt in enumerate(row.gene.upper()):\n",
        "\n",
        "            for mirna_index, mirna_nt in enumerate(row.miRNA.upper()):\n",
        "\n",
        "                base_pairs = bind_nt + mirna_nt\n",
        "                ohe_matrix_2d[index, bind_index, mirna_index, 0] = alphabet.get(base_pairs, 0)\n",
        "\n",
        "    return ohe_matrix_2d, label\n",
        "\n",
        "\n",
        "def make_architecture():\n",
        "    \"\"\"\n",
        "    build model architecture\n",
        "\n",
        "    return a model object\n",
        "    \"\"\"\n",
        "    main_input = Input(shape=(50, 20, 1),\n",
        "                       dtype='float32', name='main_input'\n",
        "                       )\n",
        "\n",
        "    x = Conv2D(\n",
        "        filters=32,\n",
        "        kernel_size=(3, 3),\n",
        "        padding=\"same\",\n",
        "        data_format=\"channels_last\",\n",
        "        name=\"conv_1\")(main_input)\n",
        "    x = LeakyReLU()(x)\n",
        "    x = BatchNormalization()(x)\n",
        "    x = MaxPooling2D(pool_size=(2, 2), name='Max_1')(x)\n",
        "    x = Dropout(rate=0.25)(x)\n",
        "\n",
        "    x = Conv2D(\n",
        "        filters=64,\n",
        "        kernel_size=(3, 3),\n",
        "        padding=\"same\",\n",
        "        data_format=\"channels_last\",\n",
        "        name=\"conv_2\")(x)\n",
        "    x = LeakyReLU()(x)\n",
        "    x = BatchNormalization()(x)\n",
        "    x = MaxPooling2D(pool_size=(2, 2), name='Max_2')(x)\n",
        "    x = Dropout(rate=0.25)(x)\n",
        "\n",
        "    x = Conv2D(\n",
        "        filters=128,\n",
        "        kernel_size=(3, 3),\n",
        "        padding=\"same\",\n",
        "        data_format=\"channels_last\",\n",
        "        name=\"conv_3\")(x)\n",
        "    x = LeakyReLU()(x)\n",
        "    x = BatchNormalization()(x)\n",
        "    x = MaxPooling2D(pool_size=(2, 2), name='Max_3')(x)\n",
        "    x = Dropout(rate=0.25)(x)\n",
        "\n",
        "    conv_flat = Flatten(name='2d_matrix')(x)\n",
        "\n",
        "    x = Dense(128)(conv_flat)\n",
        "    x = LeakyReLU()(x)\n",
        "    x = BatchNormalization()(x)\n",
        "    x = Dropout(rate=0.25)(x)\n",
        "\n",
        "    x = Dense(64)(x)\n",
        "    x = LeakyReLU()(x)\n",
        "    x = BatchNormalization()(x)\n",
        "    x = Dropout(rate=0.25)(x)\n",
        "\n",
        "    x = Dense(32)(x)\n",
        "    x = LeakyReLU()(x)\n",
        "    x = BatchNormalization()(x)\n",
        "    x = Dropout(rate=0.25)(x)\n",
        "\n",
        "    main_output = Dense(1, activation='sigmoid', name='main_output')(x)\n",
        "\n",
        "    m = K.Model(inputs=[main_input], outputs=[main_output], name='arch_00')\n",
        "\n",
        "    return m\n",
        "\n",
        "METRICS = [\n",
        "      K.metrics.TruePositives(name='tp'),\n",
        "      K.metrics.FalsePositives(name='fp'),\n",
        "      K.metrics.TrueNegatives(name='tn'),\n",
        "      K.metrics.FalseNegatives(name='fn'), \n",
        "      K.metrics.BinaryAccuracy(name='accuracy'),\n",
        "      K.metrics.Precision(name='precision'),\n",
        "      K.metrics.Recall(name='recall'),\n",
        "      K.metrics.AUC(name='auc'),\n",
        "      K.metrics.AUC(name='prc', curve='PR'), # precision-recall curve\n",
        "]\n",
        "\n",
        "\n",
        "def compile_model(metrics=METRICS):\n",
        "    K.backend.clear_session()\n",
        "    m = make_architecture()\n",
        "\n",
        "    opt = Adam(\n",
        "        learning_rate=1e-3,\n",
        "        beta_1=0.9,\n",
        "        beta_2=0.999,\n",
        "        epsilon=1e-07,\n",
        "        amsgrad=False,\n",
        "        name=\"Adam\")\n",
        "\n",
        "    m.compile(\n",
        "        optimizer=opt,\n",
        "        loss='binary_crossentropy',\n",
        "        metrics=metrics\n",
        "        )\n",
        "    return m\n",
        "\n",
        "\n",
        "def plot_history(history):\n",
        "    \"\"\"\n",
        "    plot history of the training of the model,\n",
        "    accuracy and loss of the training and validation set\n",
        "    \"\"\"\n",
        "\n",
        "    acc = history.history['accuracy']\n",
        "    val_acc = history.history['val_accuracy']\n",
        "    recall = history.history['recall']\n",
        "    val_recall = history.history['val_recall']\n",
        "    loss = history.history['loss']\n",
        "    val_loss = history.history['val_loss']\n",
        "\n",
        "    epochs = range(1, len(acc) + 1)\n",
        "\n",
        "    plt.figure(figsize=(8, 6), dpi=80)\n",
        "\n",
        "    plt.plot(epochs, acc, 'bo', label='Training acc')\n",
        "    plt.plot(epochs, val_acc, 'b', label='Validation acc')\n",
        "    plt.title('Accuracy')\n",
        "    plt.legend()\n",
        "\n",
        "    plt.figure()\n",
        "\n",
        "    plt.plot(epochs, recall, 'bo', label='Training recall')\n",
        "    plt.plot(epochs, val_recall, 'b', label='Validation recall')\n",
        "    plt.title('Accuracy')\n",
        "    plt.legend()\n",
        "\n",
        "    plt.figure()\n",
        "\n",
        "    plt.plot(epochs, loss, 'bo', label='Training loss')\n",
        "    plt.plot(epochs, val_loss, 'b', label='Validation loss')\n",
        "    plt.title('Loss')\n",
        "    plt.legend()\n",
        "    plt.show()\n"
      ],
      "metadata": {
        "id": "sStTJLRCDawJ"
      },
      "execution_count": 2,
      "outputs": []
    },
    {
      "cell_type": "markdown",
      "source": [
        "# Train data 1:10 preparation"
      ],
      "metadata": {
        "id": "UhkDiWF3REsm"
      }
    },
    {
      "cell_type": "code",
      "source": [
        "training_ratio = 10\n",
        "train_df = pd.read_csv(\"Datasets/train_set_1_\" + str(training_ratio) + \"_CLASH2013_paper.tsv\", sep='\\t')\n",
        "# set random state for reproducibility\n",
        "RANDOM_STATE = 42\n",
        "np.random.seed(RANDOM_STATE)\n",
        "train_df = train_df.sample(frac=1, random_state=RANDOM_STATE)\n",
        "print(train_df.head())\n",
        "ohe_data = one_hot_encoding(train_df)\n",
        "train_ohe, labels = ohe_data"
      ],
      "metadata": {
        "colab": {
          "base_uri": "https://localhost:8080/"
        },
        "id": "gjjW2LAlD52L",
        "outputId": "6b253d47-67ea-42bc-8da4-084c1469f0b1"
      },
      "execution_count": 3,
      "outputs": [
        {
          "output_type": "stream",
          "name": "stdout",
          "text": [
            "                       miRNA  \\\n",
            "45236   ACTGCATTATGAGCACTTAA   \n",
            "168824  TATTGCACTTGTCCCGGCCT   \n",
            "2591    AAAAGCTGGGTTGAGAGGGC   \n",
            "76746   TCTCACACAGAAATCGCACC   \n",
            "63277   TGAGGTAGTAGTTTGTGCTG   \n",
            "\n",
            "                                                     gene  label  \n",
            "45236   GAGAAGAAATCTGGCTGGTTTGAGGGTTTCCTTTAGTTCACCCTCA...      0  \n",
            "168824  GTAAATGTCTGTTTTTCATAATTGCTCTTTATATTGTGTGTTATCT...      0  \n",
            "2591    GTACCCAGTAAAAACCAGAATGACCCATTGCCAGGACGCATCAAAG...      1  \n",
            "76746   ACGTCGGCGCCATGCTCCAGGTACAGAGCCACATGTTGCTCCAGGC...      0  \n",
            "63277   ACCAATGCCAGAGGAGCAACAGCGGCAACCTTTGGCACTGCATCCA...      0  \n"
          ]
        }
      ]
    },
    {
      "cell_type": "code",
      "source": [
        "print(\"Number of samples: \", train_df.shape[0])\n",
        "print(\"Positives: \", np.sum(labels == 1))\n",
        "print(\"Negatives: \", np.sum(labels == 0))"
      ],
      "metadata": {
        "colab": {
          "base_uri": "https://localhost:8080/"
        },
        "id": "90dQbiy5P8b2",
        "outputId": "3f2b4198-4c27-4cbc-a7de-10c9b554d6df"
      },
      "execution_count": 4,
      "outputs": [
        {
          "output_type": "stream",
          "name": "stdout",
          "text": [
            "Number of samples:  169312\n",
            "Positives:  15392\n",
            "Negatives:  153920\n"
          ]
        }
      ]
    },
    {
      "cell_type": "markdown",
      "source": [
        "# Creating model"
      ],
      "metadata": {
        "id": "YoZZsM6HRMok"
      }
    },
    {
      "cell_type": "code",
      "source": [
        "model = compile_model()\n",
        "model.summary()"
      ],
      "metadata": {
        "colab": {
          "base_uri": "https://localhost:8080/"
        },
        "id": "6X-Nnm7zMtTG",
        "outputId": "ffd22d92-f5f9-4f5a-fb31-f54b9de0a5cd"
      },
      "execution_count": 5,
      "outputs": [
        {
          "output_type": "stream",
          "name": "stdout",
          "text": [
            "Model: \"arch_00\"\n",
            "_________________________________________________________________\n",
            " Layer (type)                Output Shape              Param #   \n",
            "=================================================================\n",
            " main_input (InputLayer)     [(None, 50, 20, 1)]       0         \n",
            "                                                                 \n",
            " conv_1 (Conv2D)             (None, 50, 20, 32)        320       \n",
            "                                                                 \n",
            " leaky_re_lu (LeakyReLU)     (None, 50, 20, 32)        0         \n",
            "                                                                 \n",
            " batch_normalization (BatchN  (None, 50, 20, 32)       128       \n",
            " ormalization)                                                   \n",
            "                                                                 \n",
            " Max_1 (MaxPooling2D)        (None, 25, 10, 32)        0         \n",
            "                                                                 \n",
            " dropout (Dropout)           (None, 25, 10, 32)        0         \n",
            "                                                                 \n",
            " conv_2 (Conv2D)             (None, 25, 10, 64)        18496     \n",
            "                                                                 \n",
            " leaky_re_lu_1 (LeakyReLU)   (None, 25, 10, 64)        0         \n",
            "                                                                 \n",
            " batch_normalization_1 (Batc  (None, 25, 10, 64)       256       \n",
            " hNormalization)                                                 \n",
            "                                                                 \n",
            " Max_2 (MaxPooling2D)        (None, 12, 5, 64)         0         \n",
            "                                                                 \n",
            " dropout_1 (Dropout)         (None, 12, 5, 64)         0         \n",
            "                                                                 \n",
            " conv_3 (Conv2D)             (None, 12, 5, 128)        73856     \n",
            "                                                                 \n",
            " leaky_re_lu_2 (LeakyReLU)   (None, 12, 5, 128)        0         \n",
            "                                                                 \n",
            " batch_normalization_2 (Batc  (None, 12, 5, 128)       512       \n",
            " hNormalization)                                                 \n",
            "                                                                 \n",
            " Max_3 (MaxPooling2D)        (None, 6, 2, 128)         0         \n",
            "                                                                 \n",
            " dropout_2 (Dropout)         (None, 6, 2, 128)         0         \n",
            "                                                                 \n",
            " 2d_matrix (Flatten)         (None, 1536)              0         \n",
            "                                                                 \n",
            " dense (Dense)               (None, 128)               196736    \n",
            "                                                                 \n",
            " leaky_re_lu_3 (LeakyReLU)   (None, 128)               0         \n",
            "                                                                 \n",
            " batch_normalization_3 (Batc  (None, 128)              512       \n",
            " hNormalization)                                                 \n",
            "                                                                 \n",
            " dropout_3 (Dropout)         (None, 128)               0         \n",
            "                                                                 \n",
            " dense_1 (Dense)             (None, 64)                8256      \n",
            "                                                                 \n",
            " leaky_re_lu_4 (LeakyReLU)   (None, 64)                0         \n",
            "                                                                 \n",
            " batch_normalization_4 (Batc  (None, 64)               256       \n",
            " hNormalization)                                                 \n",
            "                                                                 \n",
            " dropout_4 (Dropout)         (None, 64)                0         \n",
            "                                                                 \n",
            " dense_2 (Dense)             (None, 32)                2080      \n",
            "                                                                 \n",
            " leaky_re_lu_5 (LeakyReLU)   (None, 32)                0         \n",
            "                                                                 \n",
            " batch_normalization_5 (Batc  (None, 32)               128       \n",
            " hNormalization)                                                 \n",
            "                                                                 \n",
            " dropout_5 (Dropout)         (None, 32)                0         \n",
            "                                                                 \n",
            " main_output (Dense)         (None, 1)                 33        \n",
            "                                                                 \n",
            "=================================================================\n",
            "Total params: 301,569\n",
            "Trainable params: 300,673\n",
            "Non-trainable params: 896\n",
            "_________________________________________________________________\n"
          ]
        }
      ]
    },
    {
      "cell_type": "markdown",
      "source": [
        "# Model focused on recall"
      ],
      "metadata": {
        "id": "LeLne_mNRY0_"
      }
    },
    {
      "cell_type": "markdown",
      "source": [
        "## Train"
      ],
      "metadata": {
        "id": "JdUE36XORPYn"
      }
    },
    {
      "cell_type": "code",
      "source": [
        "monitor_val_recall = EarlyStopping(monitor = 'val_recall', patience = 10)\n",
        "model_history = model.fit(\n",
        "    train_ohe, labels,\n",
        "    validation_split=0.05, epochs=30,\n",
        "    batch_size=32,\n",
        "    class_weight={0: 1, 1: 500},#training_ratio},\n",
        "    callbacks=[monitor_val_recall]\n",
        "    )\n",
        "\n",
        "plot_history(model_history)\n",
        "\n",
        "model.save(\"model_1_\" + str(training_ratio) + \"recall.h5\")"
      ],
      "metadata": {
        "colab": {
          "base_uri": "https://localhost:8080/"
        },
        "id": "qY24hn7sD_lN",
        "outputId": "2d67be26-a7a1-40bf-b67b-c9828974004f"
      },
      "execution_count": null,
      "outputs": [
        {
          "output_type": "stream",
          "name": "stdout",
          "text": [
            "Epoch 1/30\n",
            "5027/5027 [==============================] - 115s 20ms/step - loss: 5.3357 - tp: 14416.0000 - fp: 137216.0000 - tn: 9010.0000 - fn: 204.0000 - accuracy: 0.1456 - precision: 0.0951 - recall: 0.9860 - auc: 0.7427 - prc: 0.2269 - val_loss: 1.9425 - val_tp: 772.0000 - val_fp: 7688.0000 - val_tn: 6.0000 - val_fn: 0.0000e+00 - val_accuracy: 0.0919 - val_precision: 0.0913 - val_recall: 1.0000 - val_auc: 0.8827 - val_prc: 0.5059\n",
            "Epoch 2/30\n",
            "5027/5027 [==============================] - 99s 20ms/step - loss: 3.5477 - tp: 14609.0000 - fp: 141913.0000 - tn: 4313.0000 - fn: 11.0000 - accuracy: 0.1176 - precision: 0.0933 - recall: 0.9992 - auc: 0.8550 - prc: 0.3575 - val_loss: 1.7885 - val_tp: 772.0000 - val_fp: 7403.0000 - val_tn: 291.0000 - val_fn: 0.0000e+00 - val_accuracy: 0.1256 - val_precision: 0.0944 - val_recall: 1.0000 - val_auc: 0.9325 - val_prc: 0.6559\n",
            "Epoch 3/30\n",
            "5027/5027 [==============================] - 99s 20ms/step - loss: 3.2343 - tp: 14607.0000 - fp: 137128.0000 - tn: 9098.0000 - fn: 13.0000 - accuracy: 0.1474 - precision: 0.0963 - recall: 0.9991 - auc: 0.8862 - prc: 0.4157 - val_loss: 2.1183 - val_tp: 769.0000 - val_fp: 7112.0000 - val_tn: 582.0000 - val_fn: 3.0000 - val_accuracy: 0.1596 - val_precision: 0.0976 - val_recall: 0.9961 - val_auc: 0.9179 - val_prc: 0.5559\n",
            "Epoch 4/30\n",
            "3004/5027 [================>.............] - ETA: 38s - loss: 3.0816 - tp: 8670.0000 - fp: 80241.0000 - tn: 7202.0000 - fn: 15.0000 - accuracy: 0.1651 - precision: 0.0975 - recall: 0.9983 - auc: 0.8994 - prc: 0.4436"
          ]
        }
      ]
    },
    {
      "cell_type": "markdown",
      "source": [
        "## Evaluate"
      ],
      "metadata": {
        "id": "YYMrAt8IHbjj"
      }
    },
    {
      "cell_type": "code",
      "source": [
        "dataset_ratio = '10'\n",
        "df = pd.read_csv(\"Datasets/test_set_1_\" + dataset_ratio + \"_CLASH2013_paper.tsv\", sep='\\t')\n",
        "ohe_data = one_hot_encoding(df)\n",
        "seq_ohe, labels = ohe_data"
      ],
      "metadata": {
        "id": "nRod5r1rHh0Y"
      },
      "execution_count": 8,
      "outputs": []
    },
    {
      "cell_type": "code",
      "source": [
        "print(\"Number of samples: \", df.shape[0])\n",
        "print(\"Positives: \", np.sum(labels == 1))\n",
        "print(\"Negatives: \", np.sum(labels == 0))"
      ],
      "metadata": {
        "colab": {
          "base_uri": "https://localhost:8080/"
        },
        "id": "bONvNePhHomz",
        "outputId": "8f1f97e4-f144-4d8b-96f9-52c4503255da"
      },
      "execution_count": 9,
      "outputs": [
        {
          "output_type": "stream",
          "name": "stdout",
          "text": [
            "Number of samples:  22000\n",
            "Positives:  2000\n",
            "Negatives:  20000\n"
          ]
        }
      ]
    },
    {
      "cell_type": "code",
      "source": [
        "model_10_recall_predictions = model.predict(seq_ohe)"
      ],
      "metadata": {
        "id": "_ibvTttMHqI7"
      },
      "execution_count": 10,
      "outputs": []
    },
    {
      "cell_type": "code",
      "source": [
        "from sklearn import metrics\n",
        "\n",
        "plt.figure(figsize=(4, 4), dpi=250)\n",
        "\n",
        "precision, recall, threshold = precision_recall_curve(labels, model_10_recall_predictions)\n",
        "print(\"Model 1:10 auc\", metrics.auc(recall, precision))\n",
        "plt.plot(recall, precision, label='miRBind10', marker=',', color='#73a2c6')\n",
        "plt.xlabel('Recall')\n",
        "plt.ylabel('Precision')"
      ],
      "metadata": {
        "colab": {
          "base_uri": "https://localhost:8080/",
          "height": 963
        },
        "id": "LVn7dFBPHxSc",
        "outputId": "2ec9fd24-3c66-42f1-a1a9-cd2c0d8e1dd0"
      },
      "execution_count": 11,
      "outputs": [
        {
          "output_type": "stream",
          "name": "stdout",
          "text": [
            "Model 1:10 auc 0.7547275216938956\n"
          ]
        },
        {
          "output_type": "execute_result",
          "data": {
            "text/plain": [
              "Text(0, 0.5, 'Precision')"
            ]
          },
          "metadata": {},
          "execution_count": 11
        },
        {
          "output_type": "display_data",
          "data": {
            "text/plain": [
              "<Figure size 1000x1000 with 1 Axes>"
            ],
            "image/png": "[encoded data removed]"
          },
          "metadata": {
            "needs_background": "light"
          }
        }
      ]
    },
    {
      "cell_type": "code",
      "source": [
        "from sklearn.metrics import precision_score, recall_score\n",
        "\n",
        "def print_precision_recall(labels, model_10_recall_predictions, threshold = 0.5):\n",
        "  recall = recall_score(labels, model_10_recall_predictions > threshold)\n",
        "  precision = precision_score(labels, model_10_recall_predictions > threshold)\n",
        "\n",
        "  print(precision)\n",
        "  print(recall)"
      ],
      "metadata": {
        "id": "3DXPKzzBJbre"
      },
      "execution_count": 12,
      "outputs": []
    },
    {
      "cell_type": "code",
      "source": [
        "print_precision_recall(labels, model_10_recall_predictions, threshold = 0.5)"
      ],
      "metadata": {
        "colab": {
          "base_uri": "https://localhost:8080/"
        },
        "id": "3URL4-_9Jqb6",
        "outputId": "e4bca67f-01c1-44e1-d9df-9e7c85942200"
      },
      "execution_count": 13,
      "outputs": [
        {
          "output_type": "stream",
          "name": "stdout",
          "text": [
            "0.21945193171608265\n",
            "0.977\n"
          ]
        }
      ]
    },
    {
      "cell_type": "code",
      "source": [
        "print_precision_recall(labels, model_10_recall_predictions, threshold = 0.4)"
      ],
      "metadata": {
        "colab": {
          "base_uri": "https://localhost:8080/"
        },
        "id": "JasAmPViI8tN",
        "outputId": "aa541d5e-bd7e-462f-b5c0-6e727c2e9a11"
      },
      "execution_count": 14,
      "outputs": [
        {
          "output_type": "stream",
          "name": "stdout",
          "text": [
            "0.2014565596471433\n",
            "0.982\n"
          ]
        }
      ]
    },
    {
      "cell_type": "code",
      "source": [
        "print_precision_recall(labels, model_10_recall_predictions, threshold = 0.3)"
      ],
      "metadata": {
        "colab": {
          "base_uri": "https://localhost:8080/"
        },
        "id": "dtGCNM9hJGKE",
        "outputId": "d2002d0a-1a44-44c1-b5a1-0e62ef9e81e1"
      },
      "execution_count": 15,
      "outputs": [
        {
          "output_type": "stream",
          "name": "stdout",
          "text": [
            "0.18370770808090223\n",
            "0.9855\n"
          ]
        }
      ]
    },
    {
      "cell_type": "code",
      "source": [
        "print_precision_recall(labels, model_10_recall_predictions, threshold = 0.2)"
      ],
      "metadata": {
        "colab": {
          "base_uri": "https://localhost:8080/"
        },
        "id": "xmhOHDayJvn5",
        "outputId": "a9aaba7d-d1dd-45ed-8f47-f7378aa807a8"
      },
      "execution_count": 16,
      "outputs": [
        {
          "output_type": "stream",
          "name": "stdout",
          "text": [
            "0.1635656991648061\n",
            "0.989\n"
          ]
        }
      ]
    },
    {
      "cell_type": "code",
      "source": [
        "print_precision_recall(labels, model_10_recall_predictions, threshold = 0.1)"
      ],
      "metadata": {
        "colab": {
          "base_uri": "https://localhost:8080/"
        },
        "id": "rTjmaGocJyBy",
        "outputId": "bc564fa3-0c65-455b-b2f9-14bbd6bdd93f"
      },
      "execution_count": 17,
      "outputs": [
        {
          "output_type": "stream",
          "name": "stdout",
          "text": [
            "0.13709900442477876\n",
            "0.9915\n"
          ]
        }
      ]
    },
    {
      "cell_type": "code",
      "source": [
        "print_precision_recall(labels, model_10_recall_predictions, threshold = 0.05)"
      ],
      "metadata": {
        "colab": {
          "base_uri": "https://localhost:8080/"
        },
        "id": "rppB4UkUJ0BL",
        "outputId": "349d6d42-2676-4041-f659-925d20927827"
      },
      "execution_count": 18,
      "outputs": [
        {
          "output_type": "stream",
          "name": "stdout",
          "text": [
            "0.11965349214943151\n",
            "0.9945\n"
          ]
        }
      ]
    },
    {
      "cell_type": "markdown",
      "source": [
        "## Subsample data"
      ],
      "metadata": {
        "id": "zShTrBMGKJzV"
      }
    },
    {
      "cell_type": "code",
      "source": [
        "model_10_predictions_df = pd.DataFrame(np.array([model_10_recall_predictions[:,0], labels]).T, columns=['preds', 'labels'])\n",
        "model_10_predictions_df"
      ],
      "metadata": {
        "colab": {
          "base_uri": "https://localhost:8080/",
          "height": 424
        },
        "id": "raTbUgSOKJRf",
        "outputId": "1f6f40dc-e93e-4005-dc8e-7fae4a6b022d"
      },
      "execution_count": 19,
      "outputs": [
        {
          "output_type": "execute_result",
          "data": {
            "text/plain": [
              "          preds  labels\n",
              "0      0.999843     1.0\n",
              "1      0.999956     1.0\n",
              "2      0.987432     1.0\n",
              "3      0.998751     1.0\n",
              "4      0.989165     1.0\n",
              "...         ...     ...\n",
              "21995  0.024325     0.0\n",
              "21996  0.734805     0.0\n",
              "21997  0.095681     0.0\n",
              "21998  0.314695     0.0\n",
              "21999  0.007288     0.0\n",
              "\n",
              "[22000 rows x 2 columns]"
            ],
            "text/html": [
              "\n",
              "  <div id=\"df-a41f3c81-c5c8-4ad0-8bf9-8e8eca25a6b9\">\n",
              "    <div class=\"colab-df-container\">\n",
              "      <div>\n",
              "<style scoped>\n",
              "    .dataframe tbody tr th:only-of-type {\n",
              "        vertical-align: middle;\n",
              "    }\n",
              "\n",
              "    .dataframe tbody tr th {\n",
              "        vertical-align: top;\n",
              "    }\n",
              "\n",
              "    .dataframe thead th {\n",
              "        text-align: right;\n",
              "    }\n",
              "</style>\n",
              "<table border=\"1\" class=\"dataframe\">\n",
              "  <thead>\n",
              "    <tr style=\"text-align: right;\">\n",
              "      <th></th>\n",
              "      <th>preds</th>\n",
              "      <th>labels</th>\n",
              "    </tr>\n",
              "  </thead>\n",
              "  <tbody>\n",
              "    <tr>\n",
              "      <th>0</th>\n",
              "      <td>0.999843</td>\n",
              "      <td>1.0</td>\n",
              "    </tr>\n",
              "    <tr>\n",
              "      <th>1</th>\n",
              "      <td>0.999956</td>\n",
              "      <td>1.0</td>\n",
              "    </tr>\n",
              "    <tr>\n",
              "      <th>2</th>\n",
              "      <td>0.987432</td>\n",
              "      <td>1.0</td>\n",
              "    </tr>\n",
              "    <tr>\n",
              "      <th>3</th>\n",
              "      <td>0.998751</td>\n",
              "      <td>1.0</td>\n",
              "    </tr>\n",
              "    <tr>\n",
              "      <th>4</th>\n",
              "      <td>0.989165</td>\n",
              "      <td>1.0</td>\n",
              "    </tr>\n",
              "    <tr>\n",
              "      <th>...</th>\n",
              "      <td>...</td>\n",
              "      <td>...</td>\n",
              "    </tr>\n",
              "    <tr>\n",
              "      <th>21995</th>\n",
              "      <td>0.024325</td>\n",
              "      <td>0.0</td>\n",
              "    </tr>\n",
              "    <tr>\n",
              "      <th>21996</th>\n",
              "      <td>0.734805</td>\n",
              "      <td>0.0</td>\n",
              "    </tr>\n",
              "    <tr>\n",
              "      <th>21997</th>\n",
              "      <td>0.095681</td>\n",
              "      <td>0.0</td>\n",
              "    </tr>\n",
              "    <tr>\n",
              "      <th>21998</th>\n",
              "      <td>0.314695</td>\n",
              "      <td>0.0</td>\n",
              "    </tr>\n",
              "    <tr>\n",
              "      <th>21999</th>\n",
              "      <td>0.007288</td>\n",
              "      <td>0.0</td>\n",
              "    </tr>\n",
              "  </tbody>\n",
              "</table>\n",
              "<p>22000 rows × 2 columns</p>\n",
              "</div>\n",
              "      <button class=\"colab-df-convert\" onclick=\"convertToInteractive('df-a41f3c81-c5c8-4ad0-8bf9-8e8eca25a6b9')\"\n",
              "              title=\"Convert this dataframe to an interactive table.\"\n",
              "              style=\"display:none;\">\n",
              "        \n",
              "  <svg xmlns=\"http://www.w3.org/2000/svg\" height=\"24px\"viewBox=\"0 0 24 24\"\n",
              "       width=\"24px\">\n",
              "    <path d=\"M0 0h24v24H0V0z\" fill=\"none\"/>\n",
              "    <path d=\"M18.56 5.44l.94 2.06.94-2.06 2.06-.94-2.06-.94-.94-2.06-.94 2.06-2.06.94zm-11 1L8.5 8.5l.94-2.06 2.06-.94-2.06-.94L8.5 2.5l-.94 2.06-2.06.94zm10 10l.94 2.06.94-2.06 2.06-.94-2.06-.94-.94-2.06-.94 2.06-2.06.94z\"/><path d=\"M17.41 7.96l-1.37-1.37c-.4-.4-.92-.59-1.43-.59-.52 0-1.04.2-1.43.59L10.3 9.45l-7.72 7.72c-.78.78-.78 2.05 0 2.83L4 21.41c.39.39.9.59 1.41.59.51 0 1.02-.2 1.41-.59l7.78-7.78 2.81-2.81c.8-.78.8-2.07 0-2.86zM5.41 20L4 18.59l7.72-7.72 1.47 1.35L5.41 20z\"/>\n",
              "  </svg>\n",
              "      </button>\n",
              "      \n",
              "  <style>\n",
              "    .colab-df-container {\n",
              "      display:flex;\n",
              "      flex-wrap:wrap;\n",
              "      gap: 12px;\n",
              "    }\n",
              "\n",
              "    .colab-df-convert {\n",
              "      background-color: #E8F0FE;\n",
              "      border: none;\n",
              "      border-radius: 50%;\n",
              "      cursor: pointer;\n",
              "      display: none;\n",
              "      fill: #1967D2;\n",
              "      height: 32px;\n",
              "      padding: 0 0 0 0;\n",
              "      width: 32px;\n",
              "    }\n",
              "\n",
              "    .colab-df-convert:hover {\n",
              "      background-color: #E2EBFA;\n",
              "      box-shadow: 0px 1px 2px rgba(60, 64, 67, 0.3), 0px 1px 3px 1px rgba(60, 64, 67, 0.15);\n",
              "      fill: #174EA6;\n",
              "    }\n",
              "\n",
              "    [theme=dark] .colab-df-convert {\n",
              "      background-color: #3B4455;\n",
              "      fill: #D2E3FC;\n",
              "    }\n",
              "\n",
              "    [theme=dark] .colab-df-convert:hover {\n",
              "      background-color: #434B5C;\n",
              "      box-shadow: 0px 1px 3px 1px rgba(0, 0, 0, 0.15);\n",
              "      filter: drop-shadow(0px 1px 2px rgba(0, 0, 0, 0.3));\n",
              "      fill: #FFFFFF;\n",
              "    }\n",
              "  </style>\n",
              "\n",
              "      <script>\n",
              "        const buttonEl =\n",
              "          document.querySelector('#df-a41f3c81-c5c8-4ad0-8bf9-8e8eca25a6b9 button.colab-df-convert');\n",
              "        buttonEl.style.display =\n",
              "          google.colab.kernel.accessAllowed ? 'block' : 'none';\n",
              "\n",
              "        async function convertToInteractive(key) {\n",
              "          const element = document.querySelector('#df-a41f3c81-c5c8-4ad0-8bf9-8e8eca25a6b9');\n",
              "          const dataTable =\n",
              "            await google.colab.kernel.invokeFunction('convertToInteractive',\n",
              "                                                     [key], {});\n",
              "          if (!dataTable) return;\n",
              "\n",
              "          const docLinkHtml = 'Like what you see? Visit the ' +\n",
              "            '<a target=\"_blank\" href=https://colab.research.google.com/notebooks/data_table.ipynb>data table notebook</a>'\n",
              "            + ' to learn more about interactive tables.';\n",
              "          element.innerHTML = '';\n",
              "          dataTable['output_type'] = 'display_data';\n",
              "          await google.colab.output.renderOutput(dataTable, element);\n",
              "          const docLink = document.createElement('div');\n",
              "          docLink.innerHTML = docLinkHtml;\n",
              "          element.appendChild(docLink);\n",
              "        }\n",
              "      </script>\n",
              "    </div>\n",
              "  </div>\n",
              "  "
            ]
          },
          "metadata": {},
          "execution_count": 19
        }
      ]
    },
    {
      "cell_type": "code",
      "source": [
        "threshold = 0.1\n",
        "\n",
        "model_10_predictions_sub = model_10_predictions_df[model_10_predictions_df['preds'] > threshold]['preds']\n",
        "seq_ohe_sub = seq_ohe[model_10_predictions_df[model_10_predictions_df['preds'] > threshold].index]\n",
        "labels_sub = labels[model_10_predictions_df[model_10_predictions_df['preds'] > threshold].index]"
      ],
      "metadata": {
        "id": "8W9m9qf1KSH-"
      },
      "execution_count": 20,
      "outputs": []
    },
    {
      "cell_type": "code",
      "source": [
        "print(\"Number of samples: \", len(labels_sub))\n",
        "print(\"Positives: \", np.sum(labels_sub == 1))\n",
        "print(\"Negatives: \", np.sum(labels_sub == 0))"
      ],
      "metadata": {
        "colab": {
          "base_uri": "https://localhost:8080/"
        },
        "id": "tavYoJ-wKlm3",
        "outputId": "f68826c7-e2dc-48f1-f910-c4cf1ab922e4"
      },
      "execution_count": 21,
      "outputs": [
        {
          "output_type": "stream",
          "name": "stdout",
          "text": [
            "Number of samples:  14464\n",
            "Positives:  1983\n",
            "Negatives:  12481\n"
          ]
        }
      ]
    },
    {
      "cell_type": "markdown",
      "source": [
        "# 1:1 model"
      ],
      "metadata": {
        "id": "j_jTUFibK0Nr"
      }
    },
    {
      "cell_type": "code",
      "source": [
        "model_1 = K.models.load_model(\"Models/model_1_1.h5\")\n",
        "model_1_predictions = model_1.predict(seq_ohe_sub)"
      ],
      "metadata": {
        "id": "hO5KqyPlK2YV"
      },
      "execution_count": 22,
      "outputs": []
    },
    {
      "cell_type": "code",
      "source": [
        "plt.figure(figsize=(4, 4), dpi=250)\n",
        "\n",
        "precision, recall, _ = precision_recall_curve(labels_sub, model_1_predictions)\n",
        "print(\"Model 1:1 auc\", metrics.auc(recall, precision))\n",
        "plt.plot(recall, precision, label='miRBind1', marker=',', color='#00429d')"
      ],
      "metadata": {
        "colab": {
          "base_uri": "https://localhost:8080/",
          "height": 915
        },
        "id": "8bfVwwR1K97L",
        "outputId": "88e04cc6-8032-4602-c359-8b3fad38062d"
      },
      "execution_count": 23,
      "outputs": [
        {
          "output_type": "stream",
          "name": "stdout",
          "text": [
            "Model 1:1 auc 0.7721416204447423\n"
          ]
        },
        {
          "output_type": "execute_result",
          "data": {
            "text/plain": [
              "[<matplotlib.lines.Line2D at 0x7f4d21b52750>]"
            ]
          },
          "metadata": {},
          "execution_count": 23
        },
        {
          "output_type": "display_data",
          "data": {
            "text/plain": [
              "<Figure size 1000x1000 with 1 Axes>"
            ],
            "image/png": "[encoded data removed]"
          },
          "metadata": {
            "needs_background": "light"
          }
        }
      ]
    },
    {
      "cell_type": "code",
      "source": [
        "model_10 = K.models.load_model(\"Models/model_1_10.h5\")\n",
        "model_10_predictions = model_10.predict(seq_ohe_sub)"
      ],
      "metadata": {
        "id": "-QGFh3OgLPO4"
      },
      "execution_count": 24,
      "outputs": []
    },
    {
      "cell_type": "code",
      "source": [
        "plt.figure(figsize=(4, 4), dpi=250)\n",
        "\n",
        "precision, recall, _ = precision_recall_curve(labels_sub, model_10_predictions)\n",
        "print(\"Model 1:10 auc\", metrics.auc(recall, precision))\n",
        "plt.plot(recall, precision, label='miRBind10', marker=',', color='#00429d')"
      ],
      "metadata": {
        "colab": {
          "base_uri": "https://localhost:8080/",
          "height": 915
        },
        "id": "8epdx7n1LTEp",
        "outputId": "8db7fa65-e5ff-4447-9d46-a78ca9336e21"
      },
      "execution_count": 25,
      "outputs": [
        {
          "output_type": "stream",
          "name": "stdout",
          "text": [
            "Model 1:10 auc 0.7842652428636406\n"
          ]
        },
        {
          "output_type": "execute_result",
          "data": {
            "text/plain": [
              "[<matplotlib.lines.Line2D at 0x7f4d1f618e10>]"
            ]
          },
          "metadata": {},
          "execution_count": 25
        },
        {
          "output_type": "display_data",
          "data": {
            "text/plain": [
              "<Figure size 1000x1000 with 1 Axes>"
            ],
            "image/png": "[encoded data removed]"
          },
          "metadata": {
            "needs_background": "light"
          }
        }
      ]
    }
  ]
}